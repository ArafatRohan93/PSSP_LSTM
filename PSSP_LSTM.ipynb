{
  "nbformat": 4,
  "nbformat_minor": 0,
  "metadata": {
    "colab": {
      "name": "PSSP_LSTM.ipynb",
      "provenance": [],
      "collapsed_sections": [],
      "toc_visible": true,
      "mount_file_id": "1tshbzLXF-oECRbxjVd504vENxX14bSSz",
      "authorship_tag": "ABX9TyMLhuivAlr0RC4OFFsaweaM",
      "include_colab_link": true
    },
    "kernelspec": {
      "name": "python3",
      "display_name": "Python 3"
    }
  },
  "cells": [
    {
      "cell_type": "markdown",
      "metadata": {
        "id": "view-in-github",
        "colab_type": "text"
      },
      "source": [
        "<a href=\"https://colab.research.google.com/github/ArafatRohan93/PSSP_LSTM/blob/main/PSSP_LSTM.ipynb\" target=\"_parent\"><img src=\"https://colab.research.google.com/assets/colab-badge.svg\" alt=\"Open In Colab\"/></a>"
      ]
    },
    {
      "cell_type": "markdown",
      "metadata": {
        "id": "KSh7DLtAEJEr"
      },
      "source": [
        "##Dataset Download"
      ]
    },
    {
      "cell_type": "code",
      "metadata": {
        "id": "XTiYtyvyPtBA",
        "colab": {
          "base_uri": "https://localhost:8080/"
        },
        "outputId": "638a8d2e-7b5d-409c-e799-379323f33360"
      },
      "source": [
        "from google.colab import drive\n",
        "drive.mount('/content/drive')"
      ],
      "execution_count": null,
      "outputs": [
        {
          "output_type": "stream",
          "text": [
            "Mounted at /content/drive\n"
          ],
          "name": "stdout"
        }
      ]
    },
    {
      "cell_type": "code",
      "metadata": {
        "colab": {
          "resources": {
            "http://localhost:8080/nbextensions/google.colab/files.js": {
              "data": "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",
              "ok": true,
              "headers": [
                [
                  "content-type",
                  "application/javascript"
                ]
              ],
              "status": 200,
              "status_text": ""
            }
          },
          "base_uri": "https://localhost:8080/",
          "height": 90
        },
        "id": "TmrOGRsMCzOo",
        "outputId": "eed692f1-c73e-498a-fd21-6379581a819e"
      },
      "source": [
        "#Kaggle API Upload ------Dont touch-----------\r\n",
        "from google.colab import files\r\n",
        "files.upload()  #this will prompt you to upload the kaggle.json"
      ],
      "execution_count": null,
      "outputs": [
        {
          "output_type": "display_data",
          "data": {
            "text/html": [
              "\n",
              "     <input type=\"file\" id=\"files-21b44efc-e4d7-40b3-ada2-96162c7e5c31\" name=\"files[]\" multiple disabled\n",
              "        style=\"border:none\" />\n",
              "     <output id=\"result-21b44efc-e4d7-40b3-ada2-96162c7e5c31\">\n",
              "      Upload widget is only available when the cell has been executed in the\n",
              "      current browser session. Please rerun this cell to enable.\n",
              "      </output>\n",
              "      <script src=\"/nbextensions/google.colab/files.js\"></script> "
            ],
            "text/plain": [
              "<IPython.core.display.HTML object>"
            ]
          },
          "metadata": {
            "tags": []
          }
        },
        {
          "output_type": "stream",
          "text": [
            "Saving kaggle (1).json to kaggle (1).json\n"
          ],
          "name": "stdout"
        },
        {
          "output_type": "execute_result",
          "data": {
            "text/plain": [
              "{'kaggle (1).json': b'{\"username\":\"arafat93\",\"key\":\"c248e60f0af40ea871dda0a87be41cb5\"}'}"
            ]
          },
          "metadata": {
            "tags": []
          },
          "execution_count": 2
        }
      ]
    },
    {
      "cell_type": "code",
      "metadata": {
        "colab": {
          "base_uri": "https://localhost:8080/"
        },
        "id": "qg7YuXr9Es1W",
        "outputId": "fdf7d076-fff2-4deb-94fc-87e437af083f"
      },
      "source": [
        "# ------Dont touch-----------\r\n",
        "!pip install -q kaggle\r\n",
        "!mkdir -p ~/.kaggle\r\n",
        "!cp kaggle.json ~/.kaggle/\r\n",
        "!ls ~/.kaggle\r\n",
        "!chmod 600 /root/.kaggle/kaggle.json  # set permission"
      ],
      "execution_count": null,
      "outputs": [
        {
          "output_type": "stream",
          "text": [
            "kaggle.json\n"
          ],
          "name": "stdout"
        }
      ]
    },
    {
      "cell_type": "code",
      "metadata": {
        "colab": {
          "base_uri": "https://localhost:8080/"
        },
        "id": "FbXdq_tbExaZ",
        "outputId": "59b838dc-d0f4-44c8-a9a9-6c2ff50dee17"
      },
      "source": [
        "!kaggle datasets download -d alfrandom/protein-secondary-structure -p /content/drive/My\\ Drive/Protein/Kaggle"
      ],
      "execution_count": null,
      "outputs": [
        {
          "output_type": "stream",
          "text": [
            "Downloading protein-secondary-structure.zip to /content/drive/My Drive/Protein/Kaggle\n",
            " 85% 33.0M/38.8M [00:02<00:00, 10.8MB/s]\n",
            "100% 38.8M/38.8M [00:02<00:00, 17.9MB/s]\n"
          ],
          "name": "stdout"
        }
      ]
    },
    {
      "cell_type": "code",
      "metadata": {
        "colab": {
          "base_uri": "https://localhost:8080/"
        },
        "id": "ruNRV4gAFva-",
        "outputId": "235ab1fe-3743-4df9-969d-371d88d34bc3"
      },
      "source": [
        "!unzip /content/drive/My\\ Drive/Protein/Kaggle/protein-secondary-structure.zip -d /content/drive/My\\ Drive/Protein/Kaggle/ "
      ],
      "execution_count": null,
      "outputs": [
        {
          "output_type": "stream",
          "text": [
            "Archive:  /content/drive/My Drive/Protein/Kaggle/protein-secondary-structure.zip\n",
            "  inflating: /content/drive/My Drive/Protein/Kaggle/2018-06-06-pdb-intersect-pisces.csv  \n",
            "  inflating: /content/drive/My Drive/Protein/Kaggle/2018-06-06-ss.cleaned.csv  \n"
          ],
          "name": "stdout"
        }
      ]
    },
    {
      "cell_type": "markdown",
      "metadata": {
        "id": "zCReAycOGnEp"
      },
      "source": [
        "## Code"
      ]
    },
    {
      "cell_type": "markdown",
      "metadata": {
        "id": "9yGvP3VEHRuD"
      },
      "source": [
        "# Load Data\r\n",
        "To show proof of concept only considering sequences shorter than 32 amino acids. Also experiments suggest to apply a sliding overlapping window of size 3 to the input seqeunces. In the sense of  NLP this artificially creates a corpus consisting of much more different words (>7000 different ngrams compared to 20 amino acids). There has been a lot of research in respresenting protein sequences as sentences of  biological words."
      ]
    },
    {
      "cell_type": "code",
      "metadata": {
        "colab": {
          "base_uri": "https://localhost:8080/",
          "height": 232
        },
        "id": "Xf7Oq_XlGhVx",
        "outputId": "0e9f9efc-dae2-4352-c349-154dd5befd8f"
      },
      "source": [
        "import numpy as np \r\n",
        "import pandas as pd\r\n",
        "import matplotlib.pyplot as plt\r\n",
        "%matplotlib inline\r\n",
        "import seaborn as sns #visualisation\r\n",
        "sns.set(color_codes=True)\r\n",
        "\r\n",
        "df = pd.read_csv('/content/drive/My Drive/Protein/Kaggle/2018-06-06-ss.cleaned.csv').sort_values(by=['pdb_id','chain_code'])\r\n",
        "print(len(df))\r\n",
        "df.head()\r\n"
      ],
      "execution_count": 3,
      "outputs": [
        {
          "output_type": "stream",
          "text": [
            "393732\n"
          ],
          "name": "stdout"
        },
        {
          "output_type": "execute_result",
          "data": {
            "text/html": [
              "<div>\n",
              "<style scoped>\n",
              "    .dataframe tbody tr th:only-of-type {\n",
              "        vertical-align: middle;\n",
              "    }\n",
              "\n",
              "    .dataframe tbody tr th {\n",
              "        vertical-align: top;\n",
              "    }\n",
              "\n",
              "    .dataframe thead th {\n",
              "        text-align: right;\n",
              "    }\n",
              "</style>\n",
              "<table border=\"1\" class=\"dataframe\">\n",
              "  <thead>\n",
              "    <tr style=\"text-align: right;\">\n",
              "      <th></th>\n",
              "      <th>pdb_id</th>\n",
              "      <th>chain_code</th>\n",
              "      <th>seq</th>\n",
              "      <th>sst8</th>\n",
              "      <th>sst3</th>\n",
              "      <th>len</th>\n",
              "      <th>has_nonstd_aa</th>\n",
              "    </tr>\n",
              "  </thead>\n",
              "  <tbody>\n",
              "    <tr>\n",
              "      <th>124730</th>\n",
              "      <td>101M</td>\n",
              "      <td>A</td>\n",
              "      <td>MVLSEGEWQLVLHVWAKVEADVAGHGQDILIRLFKSHPETLEKFDR...</td>\n",
              "      <td>CCCCHHHHHHHHHHHHHHGGGHHHHHHHHHHHHHHHCGGGGGGCTT...</td>\n",
              "      <td>CCCCHHHHHHHHHHHHHHHHHHHHHHHHHHHHHHHHCHHHHHHCCC...</td>\n",
              "      <td>154</td>\n",
              "      <td>False</td>\n",
              "    </tr>\n",
              "    <tr>\n",
              "      <th>138377</th>\n",
              "      <td>102L</td>\n",
              "      <td>A</td>\n",
              "      <td>MNIFEMLRIDEGLRLKIYKDTEGYYTIGIGHLLTKSPSLNAAAKSE...</td>\n",
              "      <td>CCHHHHHHHHHCCEEEEEECTTSCEEEETTEEEESSSCTTTHHHHH...</td>\n",
              "      <td>CCHHHHHHHHHCCEEEEEECCCCCEEEECCEEEECCCCCCCHHHHH...</td>\n",
              "      <td>165</td>\n",
              "      <td>False</td>\n",
              "    </tr>\n",
              "    <tr>\n",
              "      <th>124731</th>\n",
              "      <td>102M</td>\n",
              "      <td>A</td>\n",
              "      <td>MVLSEGEWQLVLHVWAKVEADVAGHGQDILIRLFKSHPETLEKFDR...</td>\n",
              "      <td>CCCCHHHHHHHHHHHHHHGGGHHHHHHHHHHHHHHHCGGGGGGCTT...</td>\n",
              "      <td>CCCCHHHHHHHHHHHHHHHHHHHHHHHHHHHHHHHHCHHHHHHCCC...</td>\n",
              "      <td>154</td>\n",
              "      <td>False</td>\n",
              "    </tr>\n",
              "    <tr>\n",
              "      <th>140434</th>\n",
              "      <td>103L</td>\n",
              "      <td>A</td>\n",
              "      <td>MNIFEMLRIDEGLRLKIYKDTEGYYTIGIGHLLTKSPSLNSLDAAK...</td>\n",
              "      <td>CCHHHHHHHHHCCEEEEEECTTSCEEEETTEECCCCCCCCCHHHHH...</td>\n",
              "      <td>CCHHHHHHHHHCCEEEEEECCCCCEEEECCEECCCCCCCCCHHHHH...</td>\n",
              "      <td>167</td>\n",
              "      <td>False</td>\n",
              "    </tr>\n",
              "    <tr>\n",
              "      <th>124732</th>\n",
              "      <td>103M</td>\n",
              "      <td>A</td>\n",
              "      <td>MVLSEGEWQLVLHVWAKVEADVAGHGQDILIRLFKSHPETLEKFDR...</td>\n",
              "      <td>CCCCHHHHHHHHHHHHHHGGGHHHHHHHHHHHHHHHCGGGGGGCTT...</td>\n",
              "      <td>CCCCHHHHHHHHHHHHHHHHHHHHHHHHHHHHHHHHCHHHHHHCCC...</td>\n",
              "      <td>154</td>\n",
              "      <td>False</td>\n",
              "    </tr>\n",
              "  </tbody>\n",
              "</table>\n",
              "</div>"
            ],
            "text/plain": [
              "       pdb_id chain_code  ...  len has_nonstd_aa\n",
              "124730   101M          A  ...  154         False\n",
              "138377   102L          A  ...  165         False\n",
              "124731   102M          A  ...  154         False\n",
              "140434   103L          A  ...  167         False\n",
              "124732   103M          A  ...  154         False\n",
              "\n",
              "[5 rows x 7 columns]"
            ]
          },
          "metadata": {
            "tags": []
          },
          "execution_count": 3
        }
      ]
    },
    {
      "cell_type": "code",
      "metadata": {
        "colab": {
          "base_uri": "https://localhost:8080/",
          "height": 611
        },
        "id": "2RSHAotF_h58",
        "outputId": "9fe308aa-e987-46ad-eca8-d6de092d7c0c"
      },
      "source": [
        "df.len.hist(bins=100,figsize=[10,10],)\r\n",
        "print(df.shape)\r\n"
      ],
      "execution_count": 5,
      "outputs": [
        {
          "output_type": "stream",
          "text": [
            "(393732, 7)\n"
          ],
          "name": "stdout"
        },
        {
          "output_type": "display_data",
          "data": {
            "image/png": "[encoded data removed]",
            "text/plain": [
              "<Figure size 720x720 with 1 Axes>"
            ]
          },
          "metadata": {
            "tags": []
          }
        }
      ]
    },
    {
      "cell_type": "code",
      "metadata": {
        "id": "ZfUfOZlIALrF"
      },
      "source": [
        "def seq2ngrams(seqs, n=3):\r\n",
        "    return np.array([[seq[i:i+n] for i in range(len(seq))] for seq in seqs])"
      ],
      "execution_count": 6,
      "outputs": []
    },
    {
      "cell_type": "code",
      "metadata": {
        "colab": {
          "base_uri": "https://localhost:8080/"
        },
        "id": "IsjvT8GNANrf",
        "outputId": "bef7f0a7-9511-40db-a190-144f146d8a19"
      },
      "source": [
        "maxlen_seq = 256\r\n",
        "input_seqs, target_seqs = df[['seq', 'sst3']][(df.len <= maxlen_seq) & (~df.has_nonstd_aa)].values.T\r\n",
        "input_grams = seq2ngrams(input_seqs)\r\n",
        "print(input_grams[0])\r\n",
        "print(input_seqs[0])\r\n",
        "print(target_seqs[0])\r\n",
        "print(len(input_seqs))\r\n",
        "print(len(target_seqs))"
      ],
      "execution_count": 7,
      "outputs": [
        {
          "output_type": "stream",
          "text": [
            "['MVL', 'VLS', 'LSE', 'SEG', 'EGE', 'GEW', 'EWQ', 'WQL', 'QLV', 'LVL', 'VLH', 'LHV', 'HVW', 'VWA', 'WAK', 'AKV', 'KVE', 'VEA', 'EAD', 'ADV', 'DVA', 'VAG', 'AGH', 'GHG', 'HGQ', 'GQD', 'QDI', 'DIL', 'ILI', 'LIR', 'IRL', 'RLF', 'LFK', 'FKS', 'KSH', 'SHP', 'HPE', 'PET', 'ETL', 'TLE', 'LEK', 'EKF', 'KFD', 'FDR', 'DRV', 'RVK', 'VKH', 'KHL', 'HLK', 'LKT', 'KTE', 'TEA', 'EAE', 'AEM', 'EMK', 'MKA', 'KAS', 'ASE', 'SED', 'EDL', 'DLK', 'LKK', 'KKH', 'KHG', 'HGV', 'GVT', 'VTV', 'TVL', 'VLT', 'LTA', 'TAL', 'ALG', 'LGA', 'GAI', 'AIL', 'ILK', 'LKK', 'KKK', 'KKG', 'KGH', 'GHH', 'HHE', 'HEA', 'EAE', 'AEL', 'ELK', 'LKP', 'KPL', 'PLA', 'LAQ', 'AQS', 'QSH', 'SHA', 'HAT', 'ATK', 'TKH', 'KHK', 'HKI', 'KIP', 'IPI', 'PIK', 'IKY', 'KYL', 'YLE', 'LEF', 'EFI', 'FIS', 'ISE', 'SEA', 'EAI', 'AII', 'IIH', 'IHV', 'HVL', 'VLH', 'LHS', 'HSR', 'SRH', 'RHP', 'HPG', 'PGN', 'GNF', 'NFG', 'FGA', 'GAD', 'ADA', 'DAQ', 'AQG', 'QGA', 'GAM', 'AMN', 'MNK', 'NKA', 'KAL', 'ALE', 'LEL', 'ELF', 'LFR', 'FRK', 'RKD', 'KDI', 'DIA', 'IAA', 'AAK', 'AKY', 'KYK', 'YKE', 'KEL', 'ELG', 'LGY', 'GYQ', 'YQG', 'QG', 'G']\n",
            "MVLSEGEWQLVLHVWAKVEADVAGHGQDILIRLFKSHPETLEKFDRVKHLKTEAEMKASEDLKKHGVTVLTALGAILKKKGHHEAELKPLAQSHATKHKIPIKYLEFISEAIIHVLHSRHPGNFGADAQGAMNKALELFRKDIAAKYKELGYQG\n",
            "CCCCHHHHHHHHHHHHHHHHHHHHHHHHHHHHHHHHCHHHHHHCCCCCCCCCHHHHHHCHHHHHHHHHHHHHHHHHHCCCCCCHHHHHHHHHHHHHCCCCCHHHHHHHHHHHHHHHHHHCHHHCCHHHHHHHHHHHHHHHHHHHHHHHHCCCCC\n",
            "226733\n",
            "226733\n"
          ],
          "name": "stdout"
        },
        {
          "output_type": "stream",
          "text": [
            "/usr/local/lib/python3.6/dist-packages/ipykernel_launcher.py:2: VisibleDeprecationWarning: Creating an ndarray from ragged nested sequences (which is a list-or-tuple of lists-or-tuples-or ndarrays with different lengths or shapes) is deprecated. If you meant to do this, you must specify 'dtype=object' when creating the ndarray\n",
            "  \n"
          ],
          "name": "stderr"
        }
      ]
    },
    {
      "cell_type": "markdown",
      "metadata": {
        "id": "TWAhVVBeHTxd"
      },
      "source": [
        "# Preprocessing\r\n",
        "use preprocessing tools for text from keras to encode input sequence as word rank numbers  and target sequence as one hot. To ensure easy to use training and testing, all sequences are padded with zeros to the maximum sequence length (in our case 32)."
      ]
    },
    {
      "cell_type": "code",
      "metadata": {
        "colab": {
          "base_uri": "https://localhost:8080/"
        },
        "id": "wRxsb_1OG_Au",
        "outputId": "6437243b-ab96-4e0e-95ce-4ab73a65c3ed"
      },
      "source": [
        "from keras.preprocessing import text, sequence\r\n",
        "from keras.preprocessing.text import Tokenizer\r\n",
        "from keras.utils import to_categorical\r\n",
        "# print(\"input_data[0]\")\r\n",
        "tokenizer_encoder = Tokenizer()\r\n",
        "tokenizer_encoder.fit_on_texts(input_grams)\r\n",
        "input_data = tokenizer_encoder.texts_to_sequences(input_grams)\r\n",
        "# print(input_data[0])\r\n",
        "input_data = sequence.pad_sequences(input_data, maxlen=maxlen_seq, padding='post')\r\n",
        "# print(input_data[0])\r\n",
        "\r\n",
        "# print(\"target_data[0]\")\r\n",
        "tokenizer_decoder = Tokenizer(char_level=True)\r\n",
        "tokenizer_decoder.fit_on_texts(target_seqs)\r\n",
        "target_data = tokenizer_decoder.texts_to_sequences(target_seqs)\r\n",
        "# print(target_data[0])\r\n",
        "target_data = sequence.pad_sequences(target_data, maxlen=maxlen_seq, padding='post')\r\n",
        "# print(target_data[0])\r\n",
        "target_data = to_categorical(target_data)\r\n",
        "# print(target_data[0])\r\n",
        "input_data.shape, target_data.shape"
      ],
      "execution_count": 8,
      "outputs": [
        {
          "output_type": "execute_result",
          "data": {
            "text/plain": [
              "((226733, 256), (226733, 256, 4))"
            ]
          },
          "metadata": {
            "tags": []
          },
          "execution_count": 8
        }
      ]
    },
    {
      "cell_type": "markdown",
      "metadata": {
        "id": "6bXeypCbH1as"
      },
      "source": [
        "# Build Model"
      ]
    },
    {
      "cell_type": "code",
      "metadata": {
        "colab": {
          "base_uri": "https://localhost:8080/"
        },
        "id": "f_GrObdEH0Pa",
        "outputId": "a91ce49a-abf9-4269-a710-5135e41e03db"
      },
      "source": [
        "from keras.models import Model, Input\r\n",
        "from keras.layers import LSTM, Embedding, Dense, TimeDistributed, Bidirectional\r\n",
        "\r\n",
        "n_words = len(tokenizer_encoder.word_index) + 1\r\n",
        "n_tags = len(tokenizer_decoder.word_index) + 1\r\n",
        "print(n_words, n_tags)\r\n",
        "\r\n",
        "input = Input(shape=(maxlen_seq,))\r\n",
        "x = Embedding(input_dim=n_words, output_dim=128, input_length=maxlen_seq)(input)\r\n",
        "x = Bidirectional(LSTM(units=64, return_sequences=True, recurrent_dropout=0.1))(x)\r\n",
        "y = TimeDistributed(Dense(n_tags, activation=\"softmax\"))(x)\r\n",
        "model = Model(input, y)\r\n",
        "model.summary()"
      ],
      "execution_count": 9,
      "outputs": [
        {
          "output_type": "stream",
          "text": [
            "8421 4\n",
            "Model: \"model\"\n",
            "_________________________________________________________________\n",
            "Layer (type)                 Output Shape              Param #   \n",
            "=================================================================\n",
            "input_1 (InputLayer)         [(None, 256)]             0         \n",
            "_________________________________________________________________\n",
            "embedding (Embedding)        (None, 256, 128)          1077888   \n",
            "_________________________________________________________________\n",
            "bidirectional (Bidirectional (None, 256, 128)          98816     \n",
            "_________________________________________________________________\n",
            "time_distributed (TimeDistri (None, 256, 4)            516       \n",
            "=================================================================\n",
            "Total params: 1,177,220\n",
            "Trainable params: 1,177,220\n",
            "Non-trainable params: 0\n",
            "_________________________________________________________________\n"
          ],
          "name": "stdout"
        }
      ]
    },
    {
      "cell_type": "markdown",
      "metadata": {
        "id": "EBxZm4U8IGV_"
      },
      "source": [
        "# Train and Evaluate"
      ]
    },
    {
      "cell_type": "code",
      "metadata": {
        "colab": {
          "base_uri": "https://localhost:8080/"
        },
        "id": "jvNGFeR_IFQG",
        "outputId": "4bf359f6-f23a-42f0-c98e-6727921466eb"
      },
      "source": [
        "from sklearn.model_selection import train_test_split\r\n",
        "from keras.metrics import categorical_accuracy\r\n",
        "from keras import backend  as K\r\n",
        "import tensorflow as tf\r\n",
        "\r\n",
        "def q3_acc(y_true, y_pred):\r\n",
        "    y = tf.argmax(y_true, axis=-1)\r\n",
        "    y_ = tf.argmax(y_pred, axis=-1)\r\n",
        "    mask = tf.greater(y, 0)\r\n",
        "    return K.cast(K.equal(tf.boolean_mask(y, mask), tf.boolean_mask(y_, mask)), K.floatx())\r\n",
        "\r\n",
        "model.compile(optimizer=\"rmsprop\", loss=\"categorical_crossentropy\", metrics=[\"accuracy\", q3_acc])\r\n",
        "\r\n",
        "X_train, X_test, y_train, y_test = train_test_split(input_data, target_data, test_size=.4, random_state=0)\r\n",
        "seq_train, seq_test, target_train, target_test = train_test_split(input_seqs, target_seqs, test_size=.4, random_state=0)\r\n",
        "\r\n",
        "model.fit(X_train, y_train, batch_size=128, epochs=2, validation_data=(X_test, y_test), verbose=1)"
      ],
      "execution_count": 15,
      "outputs": [
        {
          "output_type": "stream",
          "text": [
            "Epoch 1/2\n",
            "1063/1063 [==============================] - 1621s 2s/step - loss: 0.4356 - accuracy: 0.8091 - q3_acc: 0.6749 - val_loss: 0.2779 - val_accuracy: 0.8890 - val_q3_acc: 0.8084\n",
            "Epoch 2/2\n",
            "1063/1063 [==============================] - 1623s 2s/step - loss: 0.2697 - accuracy: 0.8919 - q3_acc: 0.8132 - val_loss: 0.2412 - val_accuracy: 0.9041 - val_q3_acc: 0.8346\n"
          ],
          "name": "stdout"
        },
        {
          "output_type": "execute_result",
          "data": {
            "text/plain": [
              "<tensorflow.python.keras.callbacks.History at 0x7f8fa0e21748>"
            ]
          },
          "metadata": {
            "tags": []
          },
          "execution_count": 15
        }
      ]
    },
    {
      "cell_type": "markdown",
      "metadata": {
        "id": "MGW4L4I4IOdm"
      },
      "source": [
        "# Results"
      ]
    },
    {
      "cell_type": "code",
      "metadata": {
        "colab": {
          "base_uri": "https://localhost:8080/",
          "height": 754
        },
        "id": "oC8xmih5IKQ7",
        "outputId": "adc3b9f7-6d8a-4166-e92c-8b84f94aa0ea"
      },
      "source": [
        "def onehot_to_seq(oh_seq, index):\r\n",
        "    s = ''\r\n",
        "    for o in oh_seq:\r\n",
        "        i = np.argmax(o)\r\n",
        "        if i != 0:\r\n",
        "            s += index[i]\r\n",
        "        else:\r\n",
        "            break\r\n",
        "    return s\r\n",
        "\r\n",
        "def plot_results(x, y, y_):\r\n",
        "    print(\"---\")\r\n",
        "    print(\"Input: \" + str(x))\r\n",
        "    print(\"Target: \" + str(onehot_to_seq(y, revsere_decoder_index).upper()))\r\n",
        "    print(\"Result: \" + str(onehot_to_seq(y_, revsere_decoder_index).upper()))\r\n",
        "    fig = plt.figure(figsize=(10,2))\r\n",
        "    plt.imshow(y.T, cmap='Blues')\r\n",
        "    plt.imshow(y_.T, cmap='Reds', alpha=.5)\r\n",
        "    plt.yticks(range(4), [' '] + [revsere_decoder_index[i+1].upper() for i in range(3)])\r\n",
        "    plt.show()\r\n",
        "    \r\n",
        "revsere_decoder_index = {value:key for key,value in tokenizer_decoder.word_index.items()}\r\n",
        "revsere_encoder_index = {value:key for key,value in tokenizer_encoder.word_index.items()}\r\n",
        "\r\n",
        "N=3\r\n",
        "y_train_pred = model.predict(X_train[:N])\r\n",
        "y_test_pred = model.predict(X_test[:N])\r\n",
        "print('training')\r\n",
        "for i in range(N):\r\n",
        "    plot_results(seq_train[i], y_train[i], y_train_pred[i])\r\n",
        "print('testing')\r\n",
        "for i in range(N):\r\n",
        "    plot_results(seq_test[i], y_test[i], y_test_pred[i])"
      ],
      "execution_count": null,
      "outputs": [
        {
          "output_type": "stream",
          "text": [
            "training\n",
            "---\n",
            "Input: MDEADRRLLRRCRLRLVEELQVDQLWDVLLSRELFRPHMIEDIQRAGSGSRRDQARQLIIDLETRGSQALPLFISCLEDTGQDMLASFLRTNRQAAKLSK\n",
            "Target: CCHHHHHHHHHCHHHHHHHCCCCCCHHHHHHCCCCCHHHHHHHHCCCCCCHHHHHHHHHHHHCCCCCCHHHHHHHHHHHCCCHHHHHHHHHHHCCCCCCC\n",
            "Result: CCCHHHHHHHHHHHHHHHHCCCCCHHHHHHHHHCCCHHHHHHHHHCCCCCHHHHHHHHHHHHHCCCCCCHHHHHHHHHHHCHHHHHHHHHHHHHHHCCCC\n"
          ],
          "name": "stdout"
        },
        {
          "output_type": "display_data",
          "data": {
            "image/png": "[encoded data removed]",
            "text/plain": [
              "<Figure size 720x144 with 1 Axes>"
            ]
          },
          "metadata": {
            "tags": [],
            "needs_background": "light"
          }
        },
        {
          "output_type": "stream",
          "text": [
            "---\n",
            "Input: TFGSGEADCGLRPLFEKKSLEDKTERELLESYIDGR\n",
            "Target: CCCCCCCCCCCCCCCHHHCCCCCCHHHHHHHCCCCC\n",
            "Result: CCCCCCCCCCCCCCCHHHCCCCCCHHHHHHHCCCCC\n"
          ],
          "name": "stdout"
        },
        {
          "output_type": "display_data",
          "data": {
            "image/png": "[encoded data removed]",
            "text/plain": [
              "<Figure size 720x144 with 1 Axes>"
            ]
          },
          "metadata": {
            "tags": [],
            "needs_background": "light"
          }
        },
        {
          "output_type": "stream",
          "text": [
            "---\n",
            "Input: RAKMPRALDFSGHTHPVATFQPSRPESVNDLFLCPQKELTRGVRPTPR\n",
            "Target: CCCCCHHHCCCCCCCCCCEECCCCCCCCCCCEEEECCCCCCCCCCCCC\n",
            "Result: CCCCCCCCCCCCCCCCCCCECCCCCCCHHHHHHCHHHHCCCCCECCCC\n"
          ],
          "name": "stdout"
        },
        {
          "output_type": "display_data",
          "data": {
            "image/png": "[encoded data removed]",
            "text/plain": [
              "<Figure size 720x144 with 1 Axes>"
            ]
          },
          "metadata": {
            "tags": [],
            "needs_background": "light"
          }
        },
        {
          "output_type": "stream",
          "text": [
            "testing\n",
            "---\n",
            "Input: AIAPCMQTTHSKMTAGAYTEGPPQPLSAEEKKEIDKRSVYVGNVDYGSTAQDLEAHFSSCGSINRITILCDKFSGHPKGYAYIEFAERNSVDAAVAMDETVFRGRTIKVLPKRTNMPGISSTDR\n",
            "Target: CCCCCCCCCCCCCCCCCCCCCCCCCCCHHHHHHHHHCEEEEEEECCCCCHHHHHHHHHCCCCEEEEEEEEECCCCCCEEEEEEEECCHHHHHHHHCCCCCEECCEECEEEECCCCCCCCCCCCC\n",
            "Result: CCCCECCCCHCECEECCCCCCCCCCCCCCCCCCCCCCEEEECCEECCCCCHEEEECCCCCCCCCEEEEEEEEEECCCCEEEEEEEECCCCCCHHHHHHHHHHCCCCEEEEEECCCCCCCCCCCC\n"
          ],
          "name": "stdout"
        },
        {
          "output_type": "display_data",
          "data": {
            "image/png": "[encoded data removed]",
            "text/plain": [
              "<Figure size 720x144 with 1 Axes>"
            ]
          },
          "metadata": {
            "tags": [],
            "needs_background": "light"
          }
        },
        {
          "output_type": "stream",
          "text": [
            "---\n",
            "Input: GSPEFLGEEDIPREPRRIVIHRGSTGLGFNIVGGEDGEGIFISFILAGGPADLSGELRKGDQILSVNGVDLRNASHEQAAIALKNAGQTVTIIAQYKPEEYSRFEANSRVDSSGRIVTD\n",
            "Target: CCCCCHHHCCCCCCCEEEEEECCCCCCCEEEEECHHHCCEEEEEECCCCHHHHHCCCCCCEEEEEECCEECCCCCHHHHHHHHHCCCCEEEEEEEECHHHHHCCCCCEEECCCCCEEEC\n",
            "Result: CCCCCCCCCCCCCCCEEEEEECCCCECCEEEEECCCCCEEEEEEEECCCHHHHHHHCCCCCEEEEEEEEEECCCCHHHHHHHHHHCCCEEEEEEECCCHHHHHHHHCCEEECCCEEEEC\n"
          ],
          "name": "stdout"
        },
        {
          "output_type": "display_data",
          "data": {
            "image/png": "[encoded data removed]",
            "text/plain": [
              "<Figure size 720x144 with 1 Axes>"
            ]
          },
          "metadata": {
            "tags": [],
            "needs_background": "light"
          }
        },
        {
          "output_type": "stream",
          "text": [
            "---\n",
            "Input: GSSGSSGSYYDILGVPKSASERQIKKAFHKLAMKYHPDKNKSPDAEAKFREIAEAYETLSDANRRKEYDTLGHSAFTSGKGQSGPSSG\n",
            "Target: CCCCCCCCHHHHHCCCCCCCHHHHHHHHHHHHHHCCCCCCCCHHHHHHHHHHHHHHHHHHCCHHHHHHHHCCHHHHCCCCCCCCCCCC\n",
            "Result: CCCCCCCCCCCCCCCCCCCHHHHHHHHHHHHHHHCCCCCCCCCHHHHHHHHHHHHHHHHHHHHHHHHHHHHHHCCCCCCCCCCCCCCC\n"
          ],
          "name": "stdout"
        },
        {
          "output_type": "display_data",
          "data": {
            "image/png": "[encoded data removed]",
            "text/plain": [
              "<Figure size 720x144 with 1 Axes>"
            ]
          },
          "metadata": {
            "tags": [],
            "needs_background": "light"
          }
        }
      ]
    },
    {
      "cell_type": "code",
      "metadata": {
        "id": "VF8IU5dS3CkV"
      },
      "source": [
        ""
      ],
      "execution_count": null,
      "outputs": []
    }
  ]
}